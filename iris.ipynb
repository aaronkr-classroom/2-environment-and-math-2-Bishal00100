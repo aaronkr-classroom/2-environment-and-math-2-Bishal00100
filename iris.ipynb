{
 "cells": [
  {
   "cell_type": "markdown",
   "id": "6dc55357",
   "metadata": {},
   "source": [
    "# Markdown\n",
    "\n",
    "\n",
    "write your own MD content from `slide 49`\n"
   ]
  },
  {
   "cell_type": "markdown",
   "id": "4f15e15b",
   "metadata": {},
   "source": [
    "# 1. Hello python\n",
    "Name = "
   ]
  },
  {
   "cell_type": "markdown",
   "id": "c666e965",
   "metadata": {},
   "source": [
    "# 1. Hello Python\n",
    "name = \"Bishal\"\n",
    "goals= ['learn ML', 'learn DL', 'deeply learn Dl']\n",
    "\n",
    "print(\"Hello,\", name,\"!\")\n",
    "print(\"Hello, \" + name+ \"!\")\n",
    "#for(1 stating point; 2 end condition; 4 next sttep;) { 3 executing code;\n",
    "for g in goal:\n",
    "   print(\"-_, g)\n",
    "\n",
    "# if - elif - else\n",
    "if \"learn ML\" in goal:\n",
    "print(\"Lets learn ML!\")   \n",
    "}\n"
   ]
  }
 ],
 "metadata": {
  "language_info": {
   "name": "python"
  }
 },
 "nbformat": 4,
 "nbformat_minor": 5
}
